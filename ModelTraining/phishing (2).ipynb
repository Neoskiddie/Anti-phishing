{
  "nbformat": 4,
  "nbformat_minor": 0,
  "metadata": {
    "colab": {
      "name": "phishing.ipynb",
      "provenance": [],
      "collapsed_sections": []
    },
    "kernelspec": {
      "name": "python3",
      "display_name": "Python 3"
    },
    "language_info": {
      "name": "python"
    }
  },
  "cells": [
    {
      "cell_type": "markdown",
      "source": [
        "This is necessary because I'm using old Docker image compiled for different version: https://blog.ml6.eu/serving-decision-forests-with-tensorflow-b447ea4fc81c \n",
        "\n",
        "The `!` sign before commands is for Colab to run the terminal command. Disregard that in normal environment."
      ],
      "metadata": {
        "id": "coU9ZH7RDtQe"
      }
    },
    {
      "cell_type": "code",
      "source": [
        "!pip uninstall tensorflow -y\n",
        "!pip install tensorflow==2.5.1 tensorflow_decision_forests==0.1.8 pandas wurlitzer"
      ],
      "metadata": {
        "id": "HUjyo_dcDpHO"
      },
      "execution_count": null,
      "outputs": []
    },
    {
      "cell_type": "code",
      "source": [
        "# TensorFlow and tf.keras\n",
        "import tensorflow as tf\n",
        "import tensorflow_decision_forests as tfdf\n",
        "from tensorflow import keras\n",
        "\n",
        "# Helper libraries\n",
        "import numpy as np\n",
        "import matplotlib.pyplot as plt\n",
        "import os\n",
        "import pandas as pd\n",
        "\n",
        "print('TensorFlow version: {}'.format(tf.__version__))\n",
        "# should be 2.5.1"
      ],
      "metadata": {
        "id": "vX2Qvhtb-Jxo"
      },
      "execution_count": null,
      "outputs": []
    },
    {
      "cell_type": "code",
      "source": [
        "from google.colab import drive\n",
        "drive.mount('/content/gdrive')\n",
        "\n",
        "TRAINING_FILE = \"/content/gdrive/MyDrive/DATA/training_dataset.csv\"\n",
        "TESTING_FILE = \"/content/gdrive/MyDrive/DATA/testing_dataset.csv\"\n",
        "\n",
        "TRAINING_DATASET = pd.read_csv(TRAINING_FILE)\n",
        "TESTING_DATASET = pd.read_csv(TESTING_FILE)\n",
        "# Display the first 3 examples.\n",
        "TRAINING_DATASET.head(5)\n"
      ],
      "metadata": {
        "id": "EFj2W1x9nlr-"
      },
      "execution_count": null,
      "outputs": []
    },
    {
      "cell_type": "markdown",
      "source": [
        "Convert pandas dataframe into tensorflow dataset"
      ],
      "metadata": {
        "id": "LM4heW32RIqS"
      }
    },
    {
      "cell_type": "code",
      "source": [
        "train_ds = tfdf.keras.pd_dataframe_to_tf_dataset(TRAINING_DATASET, label=\"is_phishing\")\n",
        "test_ds = tfdf.keras.pd_dataframe_to_tf_dataset(TESTING_DATASET, label=\"is_phishing\")\n"
      ],
      "metadata": {
        "id": "oLdd-0q4Qi3A"
      },
      "execution_count": null,
      "outputs": []
    },
    {
      "cell_type": "markdown",
      "source": [
        "Train the model\n",
        "Note:\n",
        "No input features are specified. Therefore, all the columns will be used as input features except for the label. The feature used by the model are shown in the training logs and in the model.summary()"
      ],
      "metadata": {
        "id": "J_nLUd0FREmU"
      }
    },
    {
      "cell_type": "code",
      "source": [
        "# Specify the model.\n",
        "model = tfdf.keras.RandomForestModel(compute_oob_variable_importances=True)\n",
        "\n",
        "# Optionally, add evaluation metrics.\n",
        "model.compile(\n",
        "    metrics=[\"accuracy\"])\n",
        "\n",
        "# Train the model.\n",
        "# \"sys_pipes\" is optional. It enables the display of the training logs. It doesn't work for some reason.\n",
        "#with sys_pipes():\n",
        "model.fit(x=train_ds)\n",
        "\n",
        "  \n"
      ],
      "metadata": {
        "id": "XY-bBcqjRDPa"
      },
      "execution_count": null,
      "outputs": []
    },
    {
      "cell_type": "code",
      "source": [
        "evaluation = model.evaluate(test_ds, return_dict=True)\n",
        "print()\n",
        "\n",
        "for name, value in evaluation.items():\n",
        "  print(f\"{name}: {value:.4f}\")\n"
      ],
      "metadata": {
        "id": "XgC0dCahRsYy"
      },
      "execution_count": null,
      "outputs": []
    },
    {
      "cell_type": "code",
      "source": [
        "#model.summary()\n",
        "#model.make_inspector().variable_importances()\n",
        "#model.make_inspector().evaluation()\n",
        "model.make_inspector().features()\n",
        "\n"
      ],
      "metadata": {
        "id": "eoHiPRvFD4mT"
      },
      "execution_count": null,
      "outputs": []
    },
    {
      "cell_type": "code",
      "source": [
        "#tfdf.model_plotter.plot_model_in_colab(model, tree_idx=0)\n",
        "with open(\"/content/gdrive/MyDrive/plot.html\", \"w\") as f: f.write(tfdf.model_plotter.plot_model(model))\n"
      ],
      "metadata": {
        "id": "RhIShyTMXx1u"
      },
      "execution_count": null,
      "outputs": []
    },
    {
      "cell_type": "markdown",
      "source": [
        "Default TF-serving produces error. Finally found why that's happening. The explanation:\n",
        ">TensorFlow Serving is a serving system for TensorFlow models in production environments. The TF-Serving team publishes a pre-compiled release containing only Core TensorFlow ops.\n",
        "\n",
        ">TensorFlow Decision Forests (TF-DF) models use custom Ops for inference. Therefore, they are not compatible with the pre-compiled releases of TF-Serving. The solution to serve TF-DF models with TF-Serving is to re-compile TF-Serving with TF-DF ops. This document explains how to do so.\n",
        "\n",
        "https://github.com/tensorflow/decision-forests/blob/main/documentation/tensorflow_serving.md"
      ],
      "metadata": {
        "id": "9WQhIpKcuKOC"
      }
    },
    {
      "cell_type": "code",
      "source": [
        "MODEL_DIR = \"/content/gdrive/MyDrive/phishingModelAllUrlFeatures_v3\"\n",
        "# model_1.save(\"/content/gdrive/MyDrive/firstModelSave\")\n",
        "# Fetch the Keras session and save the model\n",
        "# The signature definition is defined by the input and output tensors,\n",
        "# and stored with the default serving key\n",
        "#import tempfile\n",
        "\n",
        "version = 1\n",
        "export_path = os.path.join(MODEL_DIR, str(version))\n",
        "print('export_path = {}\\n'.format(export_path))\n",
        "\n",
        "tf.keras.models.save_model(\n",
        "    model,\n",
        "    export_path,\n",
        "    overwrite=True,\n",
        "    include_optimizer=True,\n",
        "    save_format=None,\n",
        "    signatures=None,\n",
        "    options=None\n",
        ")\n",
        "\n",
        "print('\\nSaved model:')\n",
        "!ls -l {export_path}\n"
      ],
      "metadata": {
        "id": "nqN7DTUUXjJM"
      },
      "execution_count": null,
      "outputs": []
    },
    {
      "cell_type": "code",
      "source": [
        "# Export the model to a TensorFlow SavedModel\n",
        "model.save(\"/content/gdrive/MyDrive/phishingModelAllUrlFeatures_v3_TensorFlowSaveModel\")"
      ],
      "metadata": {
        "id": "FwYCruYHC70e"
      },
      "execution_count": null,
      "outputs": []
    },
    {
      "cell_type": "code",
      "source": [
        "model.make_inspector().variable_importances()"
      ],
      "metadata": {
        "id": "npyabxnOCRlk"
      },
      "execution_count": null,
      "outputs": []
    }
  ]
}